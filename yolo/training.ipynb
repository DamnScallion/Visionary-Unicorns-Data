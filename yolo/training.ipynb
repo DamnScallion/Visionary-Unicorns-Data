{
  "cells": [
    {
      "cell_type": "markdown",
      "metadata": {
        "id": "view-in-github",
        "colab_type": "text"
      },
      "source": [
        "<a href=\"https://colab.research.google.com/github/DamnScallion/Visionary-Unicorns-Project/blob/main/yolo/training.ipynb\" target=\"_parent\"><img src=\"https://colab.research.google.com/assets/colab-badge.svg\" alt=\"Open In Colab\"/></a>"
      ]
    },
    {
      "cell_type": "markdown",
      "source": [
        "# Please run this file in Google Colab"
      ],
      "metadata": {
        "id": "sbShdLnRU6bg"
      }
    },
    {
      "cell_type": "markdown",
      "source": [
        "### Clone files from our GitHub Repo https://github.com/DamnScallion/Visionary-Unicorns-Project"
      ],
      "metadata": {
        "id": "mM4XUhhpSL4O"
      }
    },
    {
      "cell_type": "code",
      "source": [
        "!git clone https://github.com/DamnScallion/Visionary-Unicorns-Project.git"
      ],
      "metadata": {
        "id": "zzf-kzPLv-bN"
      },
      "execution_count": null,
      "outputs": []
    },
    {
      "cell_type": "code",
      "execution_count": null,
      "metadata": {
        "id": "B9wscrnZqNy_"
      },
      "outputs": [],
      "source": [
        "!pip install ultralytics"
      ]
    },
    {
      "cell_type": "code",
      "execution_count": null,
      "metadata": {
        "id": "rK-ChJPLqVKt"
      },
      "outputs": [],
      "source": [
        "import os\n",
        "from ultralytics import YOLO"
      ]
    },
    {
      "cell_type": "code",
      "source": [
        "ROOT_DIR = '/content/Visionary-Unicorns-Project/yolo/config'"
      ],
      "metadata": {
        "id": "CXODxDmHkv6o"
      },
      "execution_count": null,
      "outputs": []
    },
    {
      "cell_type": "markdown",
      "source": [
        "# Training Models with our dataset"
      ],
      "metadata": {
        "id": "NVhKxP4pV3I7"
      }
    },
    {
      "cell_type": "markdown",
      "source": [
        "## To get the best model, we need to conduct several training experiments and evaluate each.\n",
        "\n",
        "### Train on 4 different models:\n",
        "*   yolov8n (Nano-Model)\n",
        "*   yolov8s (Small-Model)\n",
        "*   yolov8m (Medium-Model)\n",
        "*   customYolov8n (Custom-Model)\n",
        "\n",
        "### Train with 3 different size data:\n",
        "*   Original (500 Images)\n",
        "*   Augmented (3000 Images)\n",
        "*   5k-Augmented (5500 Images)\n",
        "\n",
        "### Hyperparameter Choices to Train:\n",
        "*   Train each model for 30 epochs. We will try to get the best possible results with limited training. As we have 5500 images in 5k-Augmented, even 30 epochs will take quite some time to train and should give decent results.\n",
        "*   Train each model with batch size 16. So it will be a fair comparison between the models.\n",
        "*   Train each model with image size 224. The given original image size is 640. But as we do image denoise and augmention before training, set to small size is base on trade-off model performance and training time.\n",
        "\n",
        "\n",
        "\n"
      ],
      "metadata": {
        "id": "QkCK43hXZA5f"
      }
    },
    {
      "cell_type": "markdown",
      "source": [
        "## Train on Nano-Model with Original data"
      ],
      "metadata": {
        "id": "UMy2Pr38W8h5"
      }
    },
    {
      "cell_type": "code",
      "execution_count": null,
      "metadata": {
        "id": "jFzsUyScrH09"
      },
      "outputs": [],
      "source": [
        "model_yolov8n_orig = YOLO('yolov8n.pt')\n",
        "results_yolov8n_orig = model.train(data=os.path.join(ROOT_DIR, 'yolo_config.yaml'), epochs=30, batch=16, imgsz=224, name='yolov8n_orig')"
      ]
    },
    {
      "cell_type": "markdown",
      "source": [
        "## Train on Nano-Model with Augmented data"
      ],
      "metadata": {
        "id": "tOLQEI4jl1Xy"
      }
    },
    {
      "cell_type": "code",
      "source": [
        "model_yolov8n_aug = YOLO('yolov8n.pt')\n",
        "results_yolov8n_aug = model.train(data=os.path.join(ROOT_DIR, 'yolo_config_augmented.yaml'), epochs=30, batch=16, imgsz=224, name='yolov8n_aug')"
      ],
      "metadata": {
        "id": "3vt9-pyiDSvv"
      },
      "execution_count": null,
      "outputs": []
    },
    {
      "cell_type": "markdown",
      "source": [
        "## Train on Nano-Model with 5k-Augmented data"
      ],
      "metadata": {
        "id": "lFJU8OymmKLO"
      }
    },
    {
      "cell_type": "code",
      "source": [
        "model_yolov8n_5k_aug = YOLO('yolov8n.pt')\n",
        "results_yolov8n_5k_aug = model.train(data=os.path.join(ROOT_DIR, 'yolo_config_5k_augmented.yaml'), epochs=30, batch=16, imgsz=224, name='yolov8n_5k_aug')"
      ],
      "metadata": {
        "id": "_UHYQth8mIPM"
      },
      "execution_count": null,
      "outputs": []
    },
    {
      "cell_type": "markdown",
      "source": [
        "## Train on Small-Model with Original data"
      ],
      "metadata": {
        "id": "Z7GIuc3Bmv1_"
      }
    },
    {
      "cell_type": "code",
      "source": [
        "model_yolov8s_orig = YOLO('yolov8s.pt')\n",
        "results_yolov8s_orig = model.train(data=os.path.join(ROOT_DIR, 'yolo_config.yaml'), epochs=30, batch=16, imgsz=224, name='yolov8s_orig')"
      ],
      "metadata": {
        "id": "iQG5AWMOFfHi"
      },
      "execution_count": null,
      "outputs": []
    },
    {
      "cell_type": "markdown",
      "source": [
        "## Train on Small-Model with Augmented data"
      ],
      "metadata": {
        "id": "pbilwA2enTOH"
      }
    },
    {
      "cell_type": "code",
      "source": [
        "model_yolov8s_aug = YOLO('yolov8s.pt')\n",
        "results_yolov8s_aug = model.train(data=os.path.join(ROOT_DIR, 'yolo_config_augmented.yaml'), epochs=30, batch=16, imgsz=224, name='yolov8s_aug')"
      ],
      "metadata": {
        "id": "eLA9A2gjR2tc"
      },
      "execution_count": null,
      "outputs": []
    },
    {
      "cell_type": "markdown",
      "source": [
        "## Train on Small-Model with 5k-Augmented data"
      ],
      "metadata": {
        "id": "RppogBuxno5r"
      }
    },
    {
      "cell_type": "code",
      "source": [
        "model_yolov8s_5k_aug = YOLO('yolov8s.pt')\n",
        "results_yolov8s_5k_aug = model.train(data=os.path.join(ROOT_DIR, 'yolo_config_5k_augmented.yaml'), epochs=30, batch=16, imgsz=224, name='yolov8s_5k_aug')"
      ],
      "metadata": {
        "id": "HtlS1omdnt4v"
      },
      "execution_count": null,
      "outputs": []
    },
    {
      "cell_type": "markdown",
      "source": [
        "# Save the model to Google Drive"
      ],
      "metadata": {
        "id": "Zst7VAe5R3RO"
      }
    },
    {
      "cell_type": "code",
      "source": [
        "from google.colab import drive\n",
        "drive.mount('/content/drive')"
      ],
      "metadata": {
        "id": "rpFHpA5LRtK0",
        "outputId": "fa3c9344-3441-474d-c1ef-b3d8c6d5ef21",
        "colab": {
          "base_uri": "https://localhost:8080/"
        }
      },
      "execution_count": null,
      "outputs": [
        {
          "output_type": "stream",
          "name": "stdout",
          "text": [
            "Drive already mounted at /content/drive; to attempt to forcibly remount, call drive.mount(\"/content/drive\", force_remount=True).\n"
          ]
        }
      ]
    },
    {
      "cell_type": "code",
      "source": [
        "import locale\n",
        "def getpreferredencoding(do_setlocale = True):\n",
        "    return \"UTF-8\"\n",
        "locale.getpreferredencoding = getpreferredencoding"
      ],
      "metadata": {
        "id": "AJQNNtbmRvlb"
      },
      "execution_count": null,
      "outputs": []
    },
    {
      "cell_type": "code",
      "source": [
        "!scp -r /content/runs/detect/yolov8n_custom_e100 '/content/drive/My Drive/Visionary-Unicorns-Project/yolo/runs/detect'"
      ],
      "metadata": {
        "id": "D6SkJS6wRzSs"
      },
      "execution_count": null,
      "outputs": []
    },
    {
      "cell_type": "code",
      "source": [],
      "metadata": {
        "id": "kSxWX8Z4R1_o"
      },
      "execution_count": null,
      "outputs": []
    }
  ],
  "metadata": {
    "colab": {
      "gpuType": "T4",
      "provenance": [],
      "include_colab_link": true
    },
    "kernelspec": {
      "display_name": "Python 3",
      "name": "python3"
    },
    "language_info": {
      "name": "python"
    },
    "accelerator": "GPU"
  },
  "nbformat": 4,
  "nbformat_minor": 0
}